{
 "cells": [
  {
   "cell_type": "code",
   "execution_count": 1,
   "metadata": {},
   "outputs": [],
   "source": [
    "from sklearn.model_selection import train_test_split\n",
    "import numpy as np\n",
    "import pandas as pd\n",
    "import tensorflow as tf\n",
    "import keras"
   ]
  },
  {
   "cell_type": "markdown",
   "metadata": {},
   "source": [
    "# load data & 前處理"
   ]
  },
  {
   "cell_type": "code",
   "execution_count": 2,
   "metadata": {},
   "outputs": [
    {
     "name": "stdout",
     "output_type": "stream",
     "text": [
      "     Survived       Age  SibSp  Parch      Fare  Sex_1  Sex_2  Sex_3  \\\n",
      "0           0  0.271174      1      0  0.014151      0      0      1   \n",
      "1           1  0.472229      1      0  0.139136      1      0      0   \n",
      "2           1  0.321438      0      0  0.015469      0      0      1   \n",
      "3           1  0.434531      1      0  0.103644      1      0      0   \n",
      "4           0  0.434531      0      0  0.015713      0      0      1   \n",
      "..        ...       ...    ...    ...       ...    ...    ...    ...   \n",
      "885         0  0.484795      0      5  0.056848      0      0      1   \n",
      "886         0  0.334004      0      0  0.025374      0      1      0   \n",
      "887         1  0.233476      0      0  0.058556      1      0      0   \n",
      "889         1  0.321438      0      0  0.058556      1      0      0   \n",
      "890         0  0.396833      0      0  0.015127      0      0      1   \n",
      "\n",
      "     Pclass_0  Pclass_1  \n",
      "0           1         0  \n",
      "1           0         1  \n",
      "2           0         1  \n",
      "3           0         1  \n",
      "4           1         0  \n",
      "..        ...       ...  \n",
      "885         0         1  \n",
      "886         1         0  \n",
      "887         0         1  \n",
      "889         1         0  \n",
      "890         1         0  \n",
      "\n",
      "[714 rows x 10 columns]\n"
     ]
    }
   ],
   "source": [
    "df = pd.read_csv(\"train.csv\")\n",
    "\n",
    "df = df.drop(['Name', 'Cabin', 'Ticket', 'PassengerId', 'Embarked'], axis=1)\n",
    "df = df.dropna()\n",
    "df['Age'] = (df['Age'] - df['Age'].min())/( df['Age'].max() - df['Age'].min())\n",
    "df['Fare'] = (df['Fare'] - df['Fare'].min())/( df['Fare'].max() - df['Fare'].min())\n",
    "df[\"Sex\"] = df[\"Sex\"].map({'male':0, 'female':1})\n",
    "df['Sex'] = df['Sex'].astype('object')\n",
    "df['Pclass'] = df['Pclass'].astype('object')\n",
    "df = pd.get_dummies(df,prefix=[\"Sex\", \"Pclass\"])\n",
    "print(df)\n",
    "train, vali = train_test_split(df, test_size=0.2, random_state=42)\n",
    "\n",
    "X_train = train.drop(['Survived'], 1)\n",
    "X_train = X_train.to_numpy()\n",
    "X_vali = vali.drop(['Survived'], 1)\n",
    "X_test = X_vali.to_numpy()\n",
    "y_train = train['Survived']\n",
    "y_vali = vali['Survived']"
   ]
  },
  {
   "cell_type": "code",
   "execution_count": 3,
   "metadata": {},
   "outputs": [],
   "source": [
    "tf.random.set_seed(42)\n",
    "np.random.seed(42)\n",
    "\n",
    "model = keras.models.Sequential([\n",
    "    keras.layers.BatchNormalization(),\n",
    "    keras.layers.Dense(32, activation=\"relu\"),\n",
    "    keras.layers.BatchNormalization(),\n",
    "    keras.layers.Dense(64, activation=\"relu\"),\n",
    "    keras.layers.BatchNormalization(),\n",
    "    keras.layers.Dense(128, activation=\"relu\"),\n",
    "    keras.layers.BatchNormalization(),\n",
    "    keras.layers.Dense(256, activation=\"relu\"),\n",
    "    keras.layers.BatchNormalization(),\n",
    "    keras.layers.Dense(2, activation=\"softmax\")\n",
    "])"
   ]
  },
  {
   "cell_type": "code",
   "execution_count": 4,
   "metadata": {},
   "outputs": [],
   "source": [
    "model.compile(loss=\"sparse_categorical_crossentropy\",\n",
    "              optimizer='adam',\n",
    "              metrics=[\"accuracy\"])"
   ]
  },
  {
   "cell_type": "code",
   "execution_count": 5,
   "metadata": {},
   "outputs": [
    {
     "name": "stdout",
     "output_type": "stream",
     "text": [
      "Epoch 1/15\n",
      "18/18 [==============================] - 11s 362ms/step - loss: 0.6818 - accuracy: 0.6994 - val_loss: 0.6546 - val_accuracy: 0.6084\n",
      "Epoch 2/15\n",
      "18/18 [==============================] - 1s 33ms/step - loss: 0.4920 - accuracy: 0.8176 - val_loss: 0.6503 - val_accuracy: 0.6084\n",
      "Epoch 3/15\n",
      "18/18 [==============================] - 1s 35ms/step - loss: 0.3899 - accuracy: 0.8369 - val_loss: 0.6456 - val_accuracy: 0.6084\n",
      "Epoch 4/15\n",
      "18/18 [==============================] - 1s 29ms/step - loss: 0.3620 - accuracy: 0.8550 - val_loss: 0.6510 - val_accuracy: 0.6084\n",
      "Epoch 5/15\n",
      "18/18 [==============================] - 1s 38ms/step - loss: 0.4230 - accuracy: 0.8277 - val_loss: 0.6377 - val_accuracy: 0.6294\n",
      "Epoch 6/15\n",
      "18/18 [==============================] - 1s 35ms/step - loss: 0.3652 - accuracy: 0.8644 - val_loss: 0.6439 - val_accuracy: 0.6084\n",
      "Epoch 7/15\n",
      "18/18 [==============================] - 1s 32ms/step - loss: 0.3566 - accuracy: 0.8471 - val_loss: 0.6034 - val_accuracy: 0.6853\n",
      "Epoch 8/15\n",
      "18/18 [==============================] - 1s 31ms/step - loss: 0.3641 - accuracy: 0.8633 - val_loss: 0.5968 - val_accuracy: 0.6993\n",
      "Epoch 9/15\n",
      "18/18 [==============================] - 1s 34ms/step - loss: 0.3756 - accuracy: 0.8438 - val_loss: 0.5715 - val_accuracy: 0.7273\n",
      "Epoch 10/15\n",
      "18/18 [==============================] - 1s 30ms/step - loss: 0.3688 - accuracy: 0.8398 - val_loss: 0.5333 - val_accuracy: 0.7902\n",
      "Epoch 11/15\n",
      "18/18 [==============================] - 1s 36ms/step - loss: 0.3986 - accuracy: 0.8251 - val_loss: 0.5297 - val_accuracy: 0.7133\n",
      "Epoch 12/15\n",
      "18/18 [==============================] - 1s 35ms/step - loss: 0.3426 - accuracy: 0.8681 - val_loss: 0.5457 - val_accuracy: 0.7972\n",
      "Epoch 13/15\n",
      "18/18 [==============================] - 1s 28ms/step - loss: 0.4014 - accuracy: 0.8435 - val_loss: 0.5551 - val_accuracy: 0.7902\n",
      "Epoch 14/15\n",
      "18/18 [==============================] - 1s 31ms/step - loss: 0.4173 - accuracy: 0.8230 - val_loss: 0.5648 - val_accuracy: 0.7343\n",
      "Epoch 15/15\n",
      "18/18 [==============================] - 1s 39ms/step - loss: 0.3241 - accuracy: 0.8720 - val_loss: 0.5485 - val_accuracy: 0.8112\n"
     ]
    }
   ],
   "source": [
    "history = model.fit(X_train, y_train, epochs=15, verbose=1,\n",
    "                    validation_data=(X_vali, y_vali))\n",
    "model.save('model.h5')"
   ]
  },
  {
   "cell_type": "code",
   "execution_count": 6,
   "metadata": {},
   "outputs": [
    {
     "name": "stdout",
     "output_type": "stream",
     "text": [
      "Model: \"sequential\"\n",
      "_________________________________________________________________\n",
      "Layer (type)                 Output Shape              Param #   \n",
      "=================================================================\n",
      "batch_normalization (BatchNo (None, 9)                 36        \n",
      "_________________________________________________________________\n",
      "dense (Dense)                (None, 32)                320       \n",
      "_________________________________________________________________\n",
      "batch_normalization_1 (Batch (None, 32)                128       \n",
      "_________________________________________________________________\n",
      "dense_1 (Dense)              (None, 64)                2112      \n",
      "_________________________________________________________________\n",
      "batch_normalization_2 (Batch (None, 64)                256       \n",
      "_________________________________________________________________\n",
      "dense_2 (Dense)              (None, 128)               8320      \n",
      "_________________________________________________________________\n",
      "batch_normalization_3 (Batch (None, 128)               512       \n",
      "_________________________________________________________________\n",
      "dense_3 (Dense)              (None, 256)               33024     \n",
      "_________________________________________________________________\n",
      "batch_normalization_4 (Batch (None, 256)               1024      \n",
      "_________________________________________________________________\n",
      "dense_4 (Dense)              (None, 2)                 514       \n",
      "=================================================================\n",
      "Total params: 46,246\n",
      "Trainable params: 45,268\n",
      "Non-trainable params: 978\n",
      "_________________________________________________________________\n"
     ]
    }
   ],
   "source": [
    "model.summary()"
   ]
  },
  {
   "cell_type": "markdown",
   "metadata": {},
   "source": [
    "# Prediction"
   ]
  },
  {
   "cell_type": "code",
   "execution_count": 7,
   "metadata": {},
   "outputs": [],
   "source": [
    "import pandas as pd\n",
    "import keras"
   ]
  },
  {
   "cell_type": "code",
   "execution_count": 8,
   "metadata": {},
   "outputs": [],
   "source": [
    "df = pd.read_csv(\"test.csv\")\n",
    "\n",
    "df['Age'] = df['Age'].fillna(18)\n",
    "df['Age'] = (df['Age'] - df['Age'].min())/( df['Age'].max() - df['Age'].min())\n",
    "df['Fare'] = (df['Fare'] - df['Fare'].min())/( df['Fare'].max() - df['Fare'].min())\n",
    "X = df.drop(['Name', 'Cabin', 'Ticket', 'PassengerId', 'Embarked'], axis=1)\n",
    "X[\"Sex\"] = X[\"Sex\"].map({'male':0, 'female':1})\n",
    "X['Sex'] = X['Sex'].astype('object')\n",
    "X['Pclass'] = X['Pclass'].astype('object')\n",
    "X = pd.get_dummies(X,prefix=[\"Sex\", \"Pclass\"])\n",
    "\n",
    "X = X.to_numpy()"
   ]
  },
  {
   "cell_type": "code",
   "execution_count": 9,
   "metadata": {},
   "outputs": [],
   "source": [
    "model = keras.models.load_model('model.h5')"
   ]
  },
  {
   "cell_type": "code",
   "execution_count": 10,
   "metadata": {},
   "outputs": [],
   "source": [
    "y_pred = np.argmax(model.predict(X), axis=-1)\n",
    "output = pd.DataFrame({'PassengerId':df.PassengerId,\n",
    "                       'Survived':y_pred\n",
    "                        })"
   ]
  },
  {
   "cell_type": "code",
   "execution_count": 11,
   "metadata": {},
   "outputs": [],
   "source": [
    "output.to_csv('predict.csv')"
   ]
  },
  {
   "cell_type": "code",
   "execution_count": null,
   "metadata": {},
   "outputs": [],
   "source": []
  }
 ],
 "metadata": {
  "interpreter": {
   "hash": "281ad0bb07fa535ec746bc58c729ad5f0f859b0d43fd8d664c2aec6fb60ae034"
  },
  "kernelspec": {
   "display_name": "Python 3.8.5 64-bit ('base': conda)",
   "name": "python3"
  },
  "language_info": {
   "codemirror_mode": {
    "name": "ipython",
    "version": 3
   },
   "file_extension": ".py",
   "mimetype": "text/x-python",
   "name": "python",
   "nbconvert_exporter": "python",
   "pygments_lexer": "ipython3",
   "version": "3.8.5"
  }
 },
 "nbformat": 4,
 "nbformat_minor": 4
}
